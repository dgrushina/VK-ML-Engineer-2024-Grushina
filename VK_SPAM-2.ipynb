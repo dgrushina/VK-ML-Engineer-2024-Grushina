{
 "cells": [
  {
   "cell_type": "code",
   "execution_count": 1,
   "id": "59ace5e9-d3ec-433d-9e81-6703b15ba587",
   "metadata": {},
   "outputs": [
    {
     "name": "stderr",
     "output_type": "stream",
     "text": [
      "[nltk_data] Downloading package punkt to /Users/alina/nltk_data...\n",
      "[nltk_data]   Package punkt is already up-to-date!\n",
      "[nltk_data] Downloading package stopwords to /Users/alina/nltk_data...\n",
      "[nltk_data]   Package stopwords is already up-to-date!\n",
      "[nltk_data] Downloading package wordnet to /Users/alina/nltk_data...\n",
      "[nltk_data]   Package wordnet is already up-to-date!\n"
     ]
    },
    {
     "data": {
      "text/plain": [
       "True"
      ]
     },
     "execution_count": 1,
     "metadata": {},
     "output_type": "execute_result"
    }
   ],
   "source": [
    "import numpy as np\n",
    "import matplotlib.pyplot as plt\n",
    "import pandas as pd\n",
    "import ast\n",
    "import json\n",
    "import re\n",
    "import os\n",
    "import seaborn as sns\n",
    "import collections, functools, operator\n",
    "from sklearn.model_selection import train_test_split\n",
    "import re\n",
    "import nltk\n",
    "import string\n",
    "\n",
    "\n",
    "import nltk\n",
    "from nltk.corpus import stopwords\n",
    "from nltk import tokenize\n",
    "from nltk import word_tokenize\n",
    "from nltk.probability import FreqDist\n",
    "from nltk.stem import WordNetLemmatizer\n",
    "from sklearn.feature_extraction.text import CountVectorizer\n",
    "from sklearn.svm import SVC\n",
    "from sklearn.naive_bayes import MultinomialNB\n",
    "from sklearn.tree import DecisionTreeClassifier\n",
    "from sklearn.neighbors import KNeighborsClassifier\n",
    "from sklearn.ensemble import RandomForestClassifier\n",
    "from sklearn.ensemble import AdaBoostClassifier\n",
    "from sklearn.ensemble import BaggingClassifier\n",
    "from sklearn.ensemble import ExtraTreesClassifier\n",
    "from sklearn.feature_extraction.text import TfidfVectorizer\n",
    "from sklearn.metrics import accuracy_score, roc_auc_score\n",
    "import contractions\n",
    "\n",
    "nltk.download('punkt')\n",
    "nltk.download('stopwords')\n",
    "nltk.download('wordnet')"
   ]
  },
  {
   "cell_type": "markdown",
   "id": "c150d10b-ea86-4989-bb04-00b7444e7301",
   "metadata": {},
   "source": [
    "## EDA"
   ]
  },
  {
   "cell_type": "markdown",
   "id": "30042598-5929-480b-a4b1-c6ea39ff350f",
   "metadata": {},
   "source": [
    "Считываем трейновые данные:"
   ]
  },
  {
   "cell_type": "code",
   "execution_count": 2,
   "id": "6aef18e3-b4eb-46e9-b518-93d6721524c6",
   "metadata": {},
   "outputs": [],
   "source": [
    "train = pd.read_csv(\"/Users/alina/Desktop/vk_internship/train_spam.csv\")"
   ]
  },
  {
   "cell_type": "code",
   "execution_count": 3,
   "id": "05a7f501-f0ff-4652-943b-c1816e88b867",
   "metadata": {},
   "outputs": [
    {
     "name": "stdout",
     "output_type": "stream",
     "text": [
      "<class 'pandas.core.frame.DataFrame'>\n",
      "RangeIndex: 16278 entries, 0 to 16277\n",
      "Data columns (total 2 columns):\n",
      " #   Column     Non-Null Count  Dtype \n",
      "---  ------     --------------  ----- \n",
      " 0   text_type  16278 non-null  object\n",
      " 1   text       16278 non-null  object\n",
      "dtypes: object(2)\n",
      "memory usage: 254.5+ KB\n"
     ]
    }
   ],
   "source": [
    "train.info()"
   ]
  },
  {
   "cell_type": "code",
   "execution_count": 4,
   "id": "3f3ca9eb-df96-4a2d-b739-0a318e032fce",
   "metadata": {},
   "outputs": [
    {
     "data": {
      "text/html": [
       "<div>\n",
       "<style scoped>\n",
       "    .dataframe tbody tr th:only-of-type {\n",
       "        vertical-align: middle;\n",
       "    }\n",
       "\n",
       "    .dataframe tbody tr th {\n",
       "        vertical-align: top;\n",
       "    }\n",
       "\n",
       "    .dataframe thead th {\n",
       "        text-align: right;\n",
       "    }\n",
       "</style>\n",
       "<table border=\"1\" class=\"dataframe\">\n",
       "  <thead>\n",
       "    <tr style=\"text-align: right;\">\n",
       "      <th></th>\n",
       "      <th>text_type</th>\n",
       "      <th>text</th>\n",
       "    </tr>\n",
       "  </thead>\n",
       "  <tbody>\n",
       "    <tr>\n",
       "      <th>count</th>\n",
       "      <td>16278</td>\n",
       "      <td>16278</td>\n",
       "    </tr>\n",
       "    <tr>\n",
       "      <th>unique</th>\n",
       "      <td>2</td>\n",
       "      <td>16267</td>\n",
       "    </tr>\n",
       "    <tr>\n",
       "      <th>top</th>\n",
       "      <td>ham</td>\n",
       "      <td>SPAM ALERT  🚔  User:     Username: @DillyBubbl...</td>\n",
       "    </tr>\n",
       "    <tr>\n",
       "      <th>freq</th>\n",
       "      <td>11469</td>\n",
       "      <td>7</td>\n",
       "    </tr>\n",
       "  </tbody>\n",
       "</table>\n",
       "</div>"
      ],
      "text/plain": [
       "       text_type                                               text\n",
       "count      16278                                              16278\n",
       "unique         2                                              16267\n",
       "top          ham  SPAM ALERT  🚔  User:     Username: @DillyBubbl...\n",
       "freq       11469                                                  7"
      ]
     },
     "execution_count": 4,
     "metadata": {},
     "output_type": "execute_result"
    }
   ],
   "source": [
    "train.describe()"
   ]
  },
  {
   "cell_type": "markdown",
   "id": "b1153a7f-1d77-4e37-95d5-0b181b7b6a28",
   "metadata": {},
   "source": [
    "Проверим, есть ли пустые значения:"
   ]
  },
  {
   "cell_type": "code",
   "execution_count": 5,
   "id": "e3e8e3d5-c30d-45fc-8cc1-71b6f2ca08fe",
   "metadata": {},
   "outputs": [
    {
     "data": {
      "text/plain": [
       "text_type    0\n",
       "text         0\n",
       "dtype: int64"
      ]
     },
     "execution_count": 5,
     "metadata": {},
     "output_type": "execute_result"
    }
   ],
   "source": [
    "train.isnull().sum()"
   ]
  },
  {
   "cell_type": "markdown",
   "id": "b446c7f7-13bb-487e-89fd-2e1f9f1a7467",
   "metadata": {},
   "source": [
    "Пустых значений нет. Проверим наличие дубликатов:"
   ]
  },
  {
   "cell_type": "code",
   "execution_count": 6,
   "id": "dd742f2e-d01a-43b9-8aef-2f01a64b7f84",
   "metadata": {},
   "outputs": [
    {
     "data": {
      "text/html": [
       "<div>\n",
       "<style scoped>\n",
       "    .dataframe tbody tr th:only-of-type {\n",
       "        vertical-align: middle;\n",
       "    }\n",
       "\n",
       "    .dataframe tbody tr th {\n",
       "        vertical-align: top;\n",
       "    }\n",
       "\n",
       "    .dataframe thead th {\n",
       "        text-align: right;\n",
       "    }\n",
       "</style>\n",
       "<table border=\"1\" class=\"dataframe\">\n",
       "  <thead>\n",
       "    <tr style=\"text-align: right;\">\n",
       "      <th></th>\n",
       "      <th>text_type</th>\n",
       "      <th>text</th>\n",
       "    </tr>\n",
       "  </thead>\n",
       "  <tbody>\n",
       "    <tr>\n",
       "      <th>4145</th>\n",
       "      <td>ham</td>\n",
       "      <td>SPAM ALERT  🚔  User:     Username: @DillyBubbl...</td>\n",
       "    </tr>\n",
       "    <tr>\n",
       "      <th>4463</th>\n",
       "      <td>ham</td>\n",
       "      <td>SPAM ALERT  🚔  User:     Username: @DillyBubbl...</td>\n",
       "    </tr>\n",
       "    <tr>\n",
       "      <th>5640</th>\n",
       "      <td>ham</td>\n",
       "      <td>/ban</td>\n",
       "    </tr>\n",
       "    <tr>\n",
       "      <th>6933</th>\n",
       "      <td>ham</td>\n",
       "      <td>SPAM ALERT  🚔  User:     Username: @DillyBubbl...</td>\n",
       "    </tr>\n",
       "    <tr>\n",
       "      <th>7663</th>\n",
       "      <td>ham</td>\n",
       "      <td>SPAM ALERT  🚔  User:     Username: @DillyBubbl...</td>\n",
       "    </tr>\n",
       "    <tr>\n",
       "      <th>7918</th>\n",
       "      <td>ham</td>\n",
       "      <td>SPAM ALERT  🚔  User:     Username: @DillyBubbl...</td>\n",
       "    </tr>\n",
       "    <tr>\n",
       "      <th>9790</th>\n",
       "      <td>ham</td>\n",
       "      <td>SPAM ALERT  🚔  User:     Username: @DillyBubbl...</td>\n",
       "    </tr>\n",
       "    <tr>\n",
       "      <th>10290</th>\n",
       "      <td>ham</td>\n",
       "      <td>SPAM DETECTION  User:     Username: @DillyBubb...</td>\n",
       "    </tr>\n",
       "    <tr>\n",
       "      <th>10811</th>\n",
       "      <td>ham</td>\n",
       "      <td>SPAM DETECTION  User:     Username: @DillyBubb...</td>\n",
       "    </tr>\n",
       "    <tr>\n",
       "      <th>13210</th>\n",
       "      <td>ham</td>\n",
       "      <td>SPAM DETECTION  User:     Username: @DillyBubb...</td>\n",
       "    </tr>\n",
       "    <tr>\n",
       "      <th>14267</th>\n",
       "      <td>ham</td>\n",
       "      <td>/ban</td>\n",
       "    </tr>\n",
       "  </tbody>\n",
       "</table>\n",
       "</div>"
      ],
      "text/plain": [
       "      text_type                                               text\n",
       "4145        ham  SPAM ALERT  🚔  User:     Username: @DillyBubbl...\n",
       "4463        ham  SPAM ALERT  🚔  User:     Username: @DillyBubbl...\n",
       "5640        ham                                               /ban\n",
       "6933        ham  SPAM ALERT  🚔  User:     Username: @DillyBubbl...\n",
       "7663        ham  SPAM ALERT  🚔  User:     Username: @DillyBubbl...\n",
       "7918        ham  SPAM ALERT  🚔  User:     Username: @DillyBubbl...\n",
       "9790        ham  SPAM ALERT  🚔  User:     Username: @DillyBubbl...\n",
       "10290       ham  SPAM DETECTION  User:     Username: @DillyBubb...\n",
       "10811       ham  SPAM DETECTION  User:     Username: @DillyBubb...\n",
       "13210       ham  SPAM DETECTION  User:     Username: @DillyBubb...\n",
       "14267       ham                                               /ban"
      ]
     },
     "execution_count": 6,
     "metadata": {},
     "output_type": "execute_result"
    }
   ],
   "source": [
    "train[train.duplicated()]"
   ]
  },
  {
   "cell_type": "markdown",
   "id": "b4f36a51-858c-4684-89ad-c6bcb840b998",
   "metadata": {},
   "source": [
    "Удалим дубликаты, чтобы в дальнейшем это не ухудшило перформанс моделей"
   ]
  },
  {
   "cell_type": "code",
   "execution_count": 7,
   "id": "3bf61a20-5f66-4bcd-99a7-51ca259a20a2",
   "metadata": {},
   "outputs": [],
   "source": [
    "train = train.drop_duplicates()"
   ]
  },
  {
   "cell_type": "code",
   "execution_count": 8,
   "id": "753833e0-a9b1-412f-9959-92834fdcbb37",
   "metadata": {},
   "outputs": [
    {
     "data": {
      "text/html": [
       "<div>\n",
       "<style scoped>\n",
       "    .dataframe tbody tr th:only-of-type {\n",
       "        vertical-align: middle;\n",
       "    }\n",
       "\n",
       "    .dataframe tbody tr th {\n",
       "        vertical-align: top;\n",
       "    }\n",
       "\n",
       "    .dataframe thead th {\n",
       "        text-align: right;\n",
       "    }\n",
       "</style>\n",
       "<table border=\"1\" class=\"dataframe\">\n",
       "  <thead>\n",
       "    <tr style=\"text-align: right;\">\n",
       "      <th></th>\n",
       "      <th>text_type</th>\n",
       "      <th>text</th>\n",
       "    </tr>\n",
       "  </thead>\n",
       "  <tbody>\n",
       "  </tbody>\n",
       "</table>\n",
       "</div>"
      ],
      "text/plain": [
       "Empty DataFrame\n",
       "Columns: [text_type, text]\n",
       "Index: []"
      ]
     },
     "execution_count": 8,
     "metadata": {},
     "output_type": "execute_result"
    }
   ],
   "source": [
    "train[train.duplicated()]"
   ]
  },
  {
   "cell_type": "markdown",
   "id": "256f9778-f972-450a-8192-d83a7299c2ec",
   "metadata": {},
   "source": [
    "Посмотрим на статистику соотношения классов. Видим, что сильного дисбаланса классов нет"
   ]
  },
  {
   "cell_type": "code",
   "execution_count": 10,
   "id": "a9d29523-1f27-4d7f-9c3e-df27cec5fb79",
   "metadata": {},
   "outputs": [
    {
     "data": {
      "image/png": "[encoded data removed]",
      "text/plain": [
       "<Figure size 500x400 with 1 Axes>"
      ]
     },
     "metadata": {},
     "output_type": "display_data"
    }
   ],
   "source": [
    "fig, ax = plt.subplots(ncols=1, figsize=(5, 4))\n",
    "ax.bar(train['text_type'].unique(), [100*len(train.loc[train['text_type'] == 'ham'])/len(train), 100*len(train.loc[train['text_type'] == 'spam'])/len(train)], color='#2976E0')\n",
    "plt.show()"
   ]
  },
  {
   "cell_type": "code",
   "execution_count": 11,
   "id": "d4948f2b-575e-4869-944d-ce0d681a0ddd",
   "metadata": {},
   "outputs": [],
   "source": [
    "# Создадим информационный датасет для хранения статистики о текстовых данных\n",
    "\n",
    "train_info = pd.DataFrame()\n",
    "\n",
    "# Определим функцию подсчета слов\n",
    "\n",
    "def word_count(text):\n",
    "    text_list = text.split()\n",
    "    return len(text_list)"
   ]
  },
  {
   "cell_type": "code",
   "execution_count": 12,
   "id": "b80df5af-1310-4d0a-872f-e06ccb61637a",
   "metadata": {},
   "outputs": [
    {
     "data": {
      "text/html": [
       "<div>\n",
       "<style scoped>\n",
       "    .dataframe tbody tr th:only-of-type {\n",
       "        vertical-align: middle;\n",
       "    }\n",
       "\n",
       "    .dataframe tbody tr th {\n",
       "        vertical-align: top;\n",
       "    }\n",
       "\n",
       "    .dataframe thead th {\n",
       "        text-align: right;\n",
       "    }\n",
       "</style>\n",
       "<table border=\"1\" class=\"dataframe\">\n",
       "  <thead>\n",
       "    <tr style=\"text-align: right;\">\n",
       "      <th></th>\n",
       "      <th>text_length</th>\n",
       "      <th>text_word_count</th>\n",
       "      <th>text_mean_word_length</th>\n",
       "    </tr>\n",
       "  </thead>\n",
       "  <tbody>\n",
       "    <tr>\n",
       "      <th>0</th>\n",
       "      <td>86</td>\n",
       "      <td>16</td>\n",
       "      <td>4.437500</td>\n",
       "    </tr>\n",
       "    <tr>\n",
       "      <th>1</th>\n",
       "      <td>520</td>\n",
       "      <td>97</td>\n",
       "      <td>4.371134</td>\n",
       "    </tr>\n",
       "    <tr>\n",
       "      <th>2</th>\n",
       "      <td>126</td>\n",
       "      <td>22</td>\n",
       "      <td>4.772727</td>\n",
       "    </tr>\n",
       "    <tr>\n",
       "      <th>3</th>\n",
       "      <td>139</td>\n",
       "      <td>23</td>\n",
       "      <td>5.086957</td>\n",
       "    </tr>\n",
       "    <tr>\n",
       "      <th>4</th>\n",
       "      <td>733</td>\n",
       "      <td>127</td>\n",
       "      <td>4.779528</td>\n",
       "    </tr>\n",
       "    <tr>\n",
       "      <th>...</th>\n",
       "      <td>...</td>\n",
       "      <td>...</td>\n",
       "      <td>...</td>\n",
       "    </tr>\n",
       "    <tr>\n",
       "      <th>16273</th>\n",
       "      <td>114</td>\n",
       "      <td>18</td>\n",
       "      <td>5.388889</td>\n",
       "    </tr>\n",
       "    <tr>\n",
       "      <th>16274</th>\n",
       "      <td>454</td>\n",
       "      <td>73</td>\n",
       "      <td>5.232877</td>\n",
       "    </tr>\n",
       "    <tr>\n",
       "      <th>16275</th>\n",
       "      <td>799</td>\n",
       "      <td>147</td>\n",
       "      <td>4.442177</td>\n",
       "    </tr>\n",
       "    <tr>\n",
       "      <th>16276</th>\n",
       "      <td>102</td>\n",
       "      <td>21</td>\n",
       "      <td>3.904762</td>\n",
       "    </tr>\n",
       "    <tr>\n",
       "      <th>16277</th>\n",
       "      <td>745</td>\n",
       "      <td>140</td>\n",
       "      <td>4.328571</td>\n",
       "    </tr>\n",
       "  </tbody>\n",
       "</table>\n",
       "<p>16267 rows × 3 columns</p>\n",
       "</div>"
      ],
      "text/plain": [
       "       text_length  text_word_count  text_mean_word_length\n",
       "0               86               16               4.437500\n",
       "1              520               97               4.371134\n",
       "2              126               22               4.772727\n",
       "3              139               23               5.086957\n",
       "4              733              127               4.779528\n",
       "...            ...              ...                    ...\n",
       "16273          114               18               5.388889\n",
       "16274          454               73               5.232877\n",
       "16275          799              147               4.442177\n",
       "16276          102               21               3.904762\n",
       "16277          745              140               4.328571\n",
       "\n",
       "[16267 rows x 3 columns]"
      ]
     },
     "execution_count": 12,
     "metadata": {},
     "output_type": "execute_result"
    }
   ],
   "source": [
    "# Подсчитаем длину текстов в символах, число слов в тексте, среднюю длину слова в тексте\n",
    "# Укажем усредненные показатели по датасету\n",
    "\n",
    "\n",
    "train_info['text_length'] = train['text'].str.len()\n",
    "train_info['text_word_count'] = train['text'].apply(word_count)\n",
    "train_info['text_mean_word_length'] = train['text'].map(lambda text: np.mean([len(word) for word in text.split()]))\n",
    "\n",
    "train_info"
   ]
  },
  {
   "cell_type": "code",
   "execution_count": 13,
   "id": "80cb3606-77ed-4484-9081-e6e0c4a9744d",
   "metadata": {},
   "outputs": [
    {
     "name": "stdout",
     "output_type": "stream",
     "text": [
      "Среднее число знаков в тексте: 310.4689862912645\n",
      "Среднее количество слов в тексте: 56.840167209688325\n",
      "Средняя длина слов в тексте: 4.442531267330611\n"
     ]
    }
   ],
   "source": [
    "print(\"Среднее число знаков в тексте: {}\".format(train_info['text_length'].mean()))\n",
    "print(\"Среднее количество слов в тексте: {}\".format(train_info['text_word_count'].mean()))\n",
    "print(\"Средняя длина слов в тексте: {}\".format(train_info['text_mean_word_length'].mean()))"
   ]
  },
  {
   "cell_type": "code",
   "execution_count": 14,
   "id": "326ef071-cade-4507-bbeb-49de25f14de2",
   "metadata": {},
   "outputs": [
    {
     "name": "stdout",
     "output_type": "stream",
     "text": [
      "Минимальное число знаков в тексте: 1\n",
      "Минимальное количество слов в тексте: 1\n",
      "Минимальная длина слов в тексте: 1.0\n"
     ]
    }
   ],
   "source": [
    "print(\"Минимальное число знаков в тексте: {}\".format(min(train_info['text_length'])))\n",
    "print(\"Минимальное количество слов в тексте: {}\".format(min(train_info['text_word_count'])))\n",
    "print(\"Минимальная длина слов в тексте: {}\".format(min(train_info['text_mean_word_length'])))"
   ]
  },
  {
   "cell_type": "code",
   "execution_count": 172,
   "id": "db672f0c-dd98-4d88-aa4e-75f105e8d3ae",
   "metadata": {},
   "outputs": [
    {
     "name": "stdout",
     "output_type": "stream",
     "text": [
      "Максимальное число знаков в тексте: 800\n",
      "Максимальное количество слов в тексте: 206\n",
      "Максимальная длина слов в тексте: 79.1\n"
     ]
    }
   ],
   "source": [
    "print(\"Максимальное число знаков в тексте: {}\".format(max(train_info['text_length'])))\n",
    "print(\"Максимальное количество слов в тексте: {}\".format(max(train_info['text_word_count'])))\n",
    "print(\"Максимальная длина слов в тексте: {}\".format(max(train_info['text_mean_word_length'])))"
   ]
  },
  {
   "cell_type": "markdown",
   "id": "48a9383e-f6d0-4f6a-aebe-2858dc4345bb",
   "metadata": {},
   "source": [
    "Видим, что есть выбросы: тексты, которые состоят только из одного символа, и тексты, которые состоят из набора символов без пробела"
   ]
  },
  {
   "cell_type": "code",
   "execution_count": 15,
   "id": "325b7485-c3e2-439a-8201-808ce05b1137",
   "metadata": {},
   "outputs": [
    {
     "data": {
      "image/png": "[encoded data removed]",
      "text/plain": [
       "<Figure size 1000x400 with 3 Axes>"
      ]
     },
     "metadata": {},
     "output_type": "display_data"
    }
   ],
   "source": [
    "# Проиллюстрируем найденные показатели\n",
    "\n",
    "fig, (ax0, ax1, ax2) = plt.subplots(nrows=1, ncols=3, figsize=(10,4))\n",
    "\n",
    "ax0.hist(train_info['text_length'], density=True, histtype='bar', color='#2976E0')\n",
    "ax0.set_title('Text Length')\n",
    "\n",
    "ax1.hist(train_info['text_word_count'], range=[0, 20], histtype='bar', color='#2976E0' )\n",
    "ax1.set_title('Text Word Count')\n",
    "\n",
    "ax2.hist(train_info['text_mean_word_length'],  range=[0, 18], histtype='bar', color='#2976E0')\n",
    "ax2.set_title('Text Mean Word Length')\n",
    "\n",
    "fig.tight_layout()\n",
    "plt.show()"
   ]
  },
  {
   "cell_type": "markdown",
   "id": "e98bbaa1-5289-49e1-846e-dd15ce775748",
   "metadata": {},
   "source": [
    "Посмотрим на соотношение длин текстов и количества слов в зависимости от классов:"
   ]
  },
  {
   "cell_type": "code",
   "execution_count": 16,
   "id": "46826b2b-decd-47a5-9ff2-6a1017ab1340",
   "metadata": {},
   "outputs": [
    {
     "name": "stderr",
     "output_type": "stream",
     "text": [
      "/var/folders/6v/s1fs_26158db7chz49zh63hc0000gn/T/ipykernel_41136/1112906982.py:2: UserWarning: \n",
      "\n",
      "`distplot` is a deprecated function and will be removed in seaborn v0.14.0.\n",
      "\n",
      "Please adapt your code to use either `displot` (a figure-level function with\n",
      "similar flexibility) or `histplot` (an axes-level function for histograms).\n",
      "\n",
      "For a guide to updating your code to use the new functions, please see\n",
      "https://gist.github.com/mwaskom/de44147ed2974457ad6372750bbe5751\n",
      "\n",
      "  sns.distplot(ham, label='Ham')\n",
      "/Users/alina/opt/anaconda3/lib/python3.9/site-packages/seaborn/_oldcore.py:1119: FutureWarning: use_inf_as_na option is deprecated and will be removed in a future version. Convert inf values to NaN before operating instead.\n",
      "  with pd.option_context('mode.use_inf_as_na', True):\n"
     ]
    },
    {
     "name": "stdout",
     "output_type": "stream",
     "text": [
      "Intel MKL WARNING: Support of Intel(R) Streaming SIMD Extensions 4.2 (Intel(R) SSE4.2) enabled only processors has been deprecated. Intel oneAPI Math Kernel Library 2025.0 will require Intel(R) Advanced Vector Extensions (Intel(R) AVX) instructions.\n"
     ]
    },
    {
     "name": "stderr",
     "output_type": "stream",
     "text": [
      "/var/folders/6v/s1fs_26158db7chz49zh63hc0000gn/T/ipykernel_41136/1112906982.py:5: UserWarning: \n",
      "\n",
      "`distplot` is a deprecated function and will be removed in seaborn v0.14.0.\n",
      "\n",
      "Please adapt your code to use either `displot` (a figure-level function with\n",
      "similar flexibility) or `histplot` (an axes-level function for histograms).\n",
      "\n",
      "For a guide to updating your code to use the new functions, please see\n",
      "https://gist.github.com/mwaskom/de44147ed2974457ad6372750bbe5751\n",
      "\n",
      "  sns.distplot(spam, label='Spam')\n",
      "/Users/alina/opt/anaconda3/lib/python3.9/site-packages/seaborn/_oldcore.py:1119: FutureWarning: use_inf_as_na option is deprecated and will be removed in a future version. Convert inf values to NaN before operating instead.\n",
      "  with pd.option_context('mode.use_inf_as_na', True):\n"
     ]
    },
    {
     "data": {
      "text/plain": [
       "<matplotlib.legend.Legend at 0x144bac400>"
      ]
     },
     "execution_count": 16,
     "metadata": {},
     "output_type": "execute_result"
    },
    {
     "data": {
      "image/png": "[encoded data removed]",
      "text/plain": [
       "<Figure size 640x480 with 1 Axes>"
      ]
     },
     "metadata": {},
     "output_type": "display_data"
    }
   ],
   "source": [
    "ham = train[train['text_type'] == 'ham']['text'].str.len()\n",
    "sns.distplot(ham, label='Ham')\n",
    "\n",
    "spam = train[train['text_type'] == 'spam']['text'].str.len()\n",
    "sns.distplot(spam, label='Spam')\n",
    "\n",
    "plt.title('Distribution by Length')\n",
    "plt.legend()"
   ]
  },
  {
   "cell_type": "code",
   "execution_count": 17,
   "id": "f40b663d-4e25-4260-bbc1-f41badbc80f5",
   "metadata": {},
   "outputs": [
    {
     "name": "stderr",
     "output_type": "stream",
     "text": [
      "/var/folders/6v/s1fs_26158db7chz49zh63hc0000gn/T/ipykernel_41136/4234890128.py:2: UserWarning: \n",
      "\n",
      "`distplot` is a deprecated function and will be removed in seaborn v0.14.0.\n",
      "\n",
      "Please adapt your code to use either `displot` (a figure-level function with\n",
      "similar flexibility) or `histplot` (an axes-level function for histograms).\n",
      "\n",
      "For a guide to updating your code to use the new functions, please see\n",
      "https://gist.github.com/mwaskom/de44147ed2974457ad6372750bbe5751\n",
      "\n",
      "  sns.distplot(ham1, label='Ham')\n",
      "/Users/alina/opt/anaconda3/lib/python3.9/site-packages/seaborn/_oldcore.py:1119: FutureWarning: use_inf_as_na option is deprecated and will be removed in a future version. Convert inf values to NaN before operating instead.\n",
      "  with pd.option_context('mode.use_inf_as_na', True):\n",
      "/var/folders/6v/s1fs_26158db7chz49zh63hc0000gn/T/ipykernel_41136/4234890128.py:5: UserWarning: \n",
      "\n",
      "`distplot` is a deprecated function and will be removed in seaborn v0.14.0.\n",
      "\n",
      "Please adapt your code to use either `displot` (a figure-level function with\n",
      "similar flexibility) or `histplot` (an axes-level function for histograms).\n",
      "\n",
      "For a guide to updating your code to use the new functions, please see\n",
      "https://gist.github.com/mwaskom/de44147ed2974457ad6372750bbe5751\n",
      "\n",
      "  sns.distplot(spam1, label='Spam')\n",
      "/Users/alina/opt/anaconda3/lib/python3.9/site-packages/seaborn/_oldcore.py:1119: FutureWarning: use_inf_as_na option is deprecated and will be removed in a future version. Convert inf values to NaN before operating instead.\n",
      "  with pd.option_context('mode.use_inf_as_na', True):\n"
     ]
    },
    {
     "data": {
      "text/plain": [
       "<matplotlib.legend.Legend at 0x144adf4f0>"
      ]
     },
     "execution_count": 17,
     "metadata": {},
     "output_type": "execute_result"
    },
    {
     "data": {
      "image/png": "[encoded data removed]",
      "text/plain": [
       "<Figure size 640x480 with 1 Axes>"
      ]
     },
     "metadata": {},
     "output_type": "display_data"
    }
   ],
   "source": [
    "ham1 = train[train['text_type'] == 'ham']['text'].str.replace(r'\\D+', '').str.len()\n",
    "sns.distplot(ham1, label='Ham')\n",
    "\n",
    "spam1 = train[train['text_type'] == 'spam']['text'].str.replace(r'\\D+', '').str.len()\n",
    "sns.distplot(spam1, label='Spam')\n",
    "\n",
    "plt.title('Distribution by Digits')\n",
    "plt.legend()"
   ]
  },
  {
   "cell_type": "code",
   "execution_count": 20,
   "id": "f9194093-9069-408d-bf90-33aa620cd596",
   "metadata": {},
   "outputs": [
    {
     "name": "stderr",
     "output_type": "stream",
     "text": [
      "/var/folders/6v/s1fs_26158db7chz49zh63hc0000gn/T/ipykernel_41136/1039366697.py:2: UserWarning: \n",
      "\n",
      "`distplot` is a deprecated function and will be removed in seaborn v0.14.0.\n",
      "\n",
      "Please adapt your code to use either `displot` (a figure-level function with\n",
      "similar flexibility) or `histplot` (an axes-level function for histograms).\n",
      "\n",
      "For a guide to updating your code to use the new functions, please see\n",
      "https://gist.github.com/mwaskom/de44147ed2974457ad6372750bbe5751\n",
      "\n",
      "  sns.distplot(ham2, label='Ham')\n",
      "/Users/alina/opt/anaconda3/lib/python3.9/site-packages/seaborn/_oldcore.py:1119: FutureWarning: use_inf_as_na option is deprecated and will be removed in a future version. Convert inf values to NaN before operating instead.\n",
      "  with pd.option_context('mode.use_inf_as_na', True):\n",
      "/var/folders/6v/s1fs_26158db7chz49zh63hc0000gn/T/ipykernel_41136/1039366697.py:5: UserWarning: \n",
      "\n",
      "`distplot` is a deprecated function and will be removed in seaborn v0.14.0.\n",
      "\n",
      "Please adapt your code to use either `displot` (a figure-level function with\n",
      "similar flexibility) or `histplot` (an axes-level function for histograms).\n",
      "\n",
      "For a guide to updating your code to use the new functions, please see\n",
      "https://gist.github.com/mwaskom/de44147ed2974457ad6372750bbe5751\n",
      "\n",
      "  sns.distplot(spam2, label='Spam')\n",
      "/Users/alina/opt/anaconda3/lib/python3.9/site-packages/seaborn/_oldcore.py:1119: FutureWarning: use_inf_as_na option is deprecated and will be removed in a future version. Convert inf values to NaN before operating instead.\n",
      "  with pd.option_context('mode.use_inf_as_na', True):\n"
     ]
    },
    {
     "data": {
      "text/plain": [
       "<matplotlib.legend.Legend at 0x144c4ee20>"
      ]
     },
     "execution_count": 20,
     "metadata": {},
     "output_type": "execute_result"
    },
    {
     "data": {
      "image/png": "[encoded data removed]",
      "text/plain": [
       "<Figure size 640x480 with 1 Axes>"
      ]
     },
     "metadata": {},
     "output_type": "display_data"
    }
   ],
   "source": [
    "ham2 = train[train['text_type'] == 'ham']['text'].str.replace(r'\\w+', '').str.len()\n",
    "sns.distplot(ham2, label='Ham')\n",
    "\n",
    "spam2 = train[train['text_type'] == 'spam']['text'].str.replace(r'\\w+', '').str.len()\n",
    "sns.distplot(spam2, label='Spam')\n",
    "\n",
    "plt.title('Distribution of Non-Digits')\n",
    "plt.legend()"
   ]
  },
  {
   "cell_type": "code",
   "execution_count": null,
   "id": "ebd7244c-b196-42d6-80fa-28d0a93f988f",
   "metadata": {},
   "outputs": [],
   "source": [
    "Проведем предобработку: токенизация, приведение слов к нижнему регистру, удаление стоп-слов, цифр, эмодзи, и других символов, которые\n",
    "впоследствии не сможем закодировать"
   ]
  },
  {
   "cell_type": "code",
   "execution_count": 54,
   "id": "377b83fd-35cf-45d4-b074-710528e46507",
   "metadata": {},
   "outputs": [
    {
     "ename": "AttributeError",
     "evalue": "'list' object has no attribute 'words'",
     "output_type": "error",
     "traceback": [
      "\u001b[0;31m---------------------------------------------------------------------------\u001b[0m",
      "\u001b[0;31mAttributeError\u001b[0m                            Traceback (most recent call last)",
      "Cell \u001b[0;32mIn[54], line 1\u001b[0m\n\u001b[0;32m----> 1\u001b[0m stopwords \u001b[38;5;241m=\u001b[39m \u001b[43mstopwords\u001b[49m\u001b[38;5;241;43m.\u001b[39;49m\u001b[43mwords\u001b[49m(\u001b[38;5;124m'\u001b[39m\u001b[38;5;124menglish\u001b[39m\u001b[38;5;124m'\u001b[39m)\n\u001b[1;32m      2\u001b[0m stopwords\u001b[38;5;241m.\u001b[39mextend([\u001b[38;5;124m'\u001b[39m\u001b[38;5;124m1635465\u001b[39m\u001b[38;5;124m'\u001b[39m])\n",
      "\u001b[0;31mAttributeError\u001b[0m: 'list' object has no attribute 'words'"
     ]
    }
   ],
   "source": [
    "\n",
    "stopwords = stopwords.words('english')\n",
    "stopwords.extend(['1635465'])"
   ]
  },
  {
   "cell_type": "code",
   "execution_count": 55,
   "id": "892d6422-0883-443e-ac54-7b26b6416e29",
   "metadata": {},
   "outputs": [],
   "source": [
    "train['preprocessed'] = train['text'].apply(lambda s: nltk.word_tokenize(s))\n",
    "train['preprocessed'] = train['preprocessed'] .apply(lambda str: [c.lower() for c in str if c.isalpha()])\n",
    "train['preprocessed'] = train['preprocessed'] .apply(lambda str: [w for w in str if w not in stopwords])"
   ]
  },
  {
   "cell_type": "code",
   "execution_count": 56,
   "id": "bfb1c8bb-8ad9-421d-8724-18b9c344c6a5",
   "metadata": {},
   "outputs": [
    {
     "data": {
      "text/html": [
       "<div>\n",
       "<style scoped>\n",
       "    .dataframe tbody tr th:only-of-type {\n",
       "        vertical-align: middle;\n",
       "    }\n",
       "\n",
       "    .dataframe tbody tr th {\n",
       "        vertical-align: top;\n",
       "    }\n",
       "\n",
       "    .dataframe thead th {\n",
       "        text-align: right;\n",
       "    }\n",
       "</style>\n",
       "<table border=\"1\" class=\"dataframe\">\n",
       "  <thead>\n",
       "    <tr style=\"text-align: right;\">\n",
       "      <th></th>\n",
       "      <th>text_type</th>\n",
       "      <th>text</th>\n",
       "      <th>preprocessed</th>\n",
       "      <th>lemmatized</th>\n",
       "    </tr>\n",
       "  </thead>\n",
       "  <tbody>\n",
       "    <tr>\n",
       "      <th>0</th>\n",
       "      <td>ham</td>\n",
       "      <td>make sure alex knows his birthday is over in f...</td>\n",
       "      <td>[make, sure, alex, knows, birthday, fifteen, m...</td>\n",
       "      <td>[m, a, k, e, s, u, r, e, a, l, e, x, k, n, o, ...</td>\n",
       "    </tr>\n",
       "    <tr>\n",
       "      <th>1</th>\n",
       "      <td>ham</td>\n",
       "      <td>a resume for john lavorato thanks vince i will...</td>\n",
       "      <td>[resume, john, lavorato, thanks, vince, get, m...</td>\n",
       "      <td>[r, e, s, u, m, e, j, o, h, n, l, a, v, o, r, ...</td>\n",
       "    </tr>\n",
       "    <tr>\n",
       "      <th>2</th>\n",
       "      <td>spam</td>\n",
       "      <td>plzz visit my website moviesgodml to get all m...</td>\n",
       "      <td>[plzz, visit, website, moviesgodml, get, movie...</td>\n",
       "      <td>[p, l, z, z, v, i, s, i, t, w, e, b, s, i, t, ...</td>\n",
       "    </tr>\n",
       "    <tr>\n",
       "      <th>3</th>\n",
       "      <td>spam</td>\n",
       "      <td>urgent your mobile number has been awarded wit...</td>\n",
       "      <td>[urgent, mobile, number, awarded, prize, guara...</td>\n",
       "      <td>[u, r, g, e, n, t, m, o, b, i, l, e, n, u, m, ...</td>\n",
       "    </tr>\n",
       "    <tr>\n",
       "      <th>4</th>\n",
       "      <td>ham</td>\n",
       "      <td>overview of hr associates analyst project per ...</td>\n",
       "      <td>[overview, hr, associates, analyst, project, p...</td>\n",
       "      <td>[o, v, e, r, v, i, e, w, h, r, a, s, s, o, c, ...</td>\n",
       "    </tr>\n",
       "    <tr>\n",
       "      <th>...</th>\n",
       "      <td>...</td>\n",
       "      <td>...</td>\n",
       "      <td>...</td>\n",
       "      <td>...</td>\n",
       "    </tr>\n",
       "    <tr>\n",
       "      <th>16273</th>\n",
       "      <td>spam</td>\n",
       "      <td>if you are interested in binary options tradin...</td>\n",
       "      <td>[interested, binary, options, trading, may, co...</td>\n",
       "      <td>[i, n, t, e, r, e, s, t, e, d, b, i, n, a, r, ...</td>\n",
       "    </tr>\n",
       "    <tr>\n",
       "      <th>16274</th>\n",
       "      <td>spam</td>\n",
       "      <td>dirty pictureblyk on aircel thanks you for bei...</td>\n",
       "      <td>[dirty, pictureblyk, aircel, thanks, valued, m...</td>\n",
       "      <td>[d, i, r, t, y, p, i, c, t, u, r, e, b, l, y, ...</td>\n",
       "    </tr>\n",
       "    <tr>\n",
       "      <th>16275</th>\n",
       "      <td>ham</td>\n",
       "      <td>or you could do this g on mon 1635465 sep 1635...</td>\n",
       "      <td>[could, g, mon, sep, david, rees, wrote, mon, ...</td>\n",
       "      <td>[c, o, u, l, d, g, m, o, n, s, e, p, d, a, v, ...</td>\n",
       "    </tr>\n",
       "    <tr>\n",
       "      <th>16276</th>\n",
       "      <td>ham</td>\n",
       "      <td>insta reels par 80 गंद bhara pada hai 👀 kuch b...</td>\n",
       "      <td>[insta, reels, par, bhara, pada, hai, kuch, bh...</td>\n",
       "      <td>[i, n, s, t, a, r, e, e, l, s, p, a, r, b, h, ...</td>\n",
       "    </tr>\n",
       "    <tr>\n",
       "      <th>16277</th>\n",
       "      <td>ham</td>\n",
       "      <td>alex s paper comments 1 in the sentence betwee...</td>\n",
       "      <td>[alex, paper, comments, sentence, eqn, eqn, th...</td>\n",
       "      <td>[a, l, e, x, p, a, p, e, r, c, o, m, m, e, n, ...</td>\n",
       "    </tr>\n",
       "  </tbody>\n",
       "</table>\n",
       "<p>16267 rows × 4 columns</p>\n",
       "</div>"
      ],
      "text/plain": [
       "      text_type                                               text  \\\n",
       "0           ham  make sure alex knows his birthday is over in f...   \n",
       "1           ham  a resume for john lavorato thanks vince i will...   \n",
       "2          spam  plzz visit my website moviesgodml to get all m...   \n",
       "3          spam  urgent your mobile number has been awarded wit...   \n",
       "4           ham  overview of hr associates analyst project per ...   \n",
       "...         ...                                                ...   \n",
       "16273      spam  if you are interested in binary options tradin...   \n",
       "16274      spam  dirty pictureblyk on aircel thanks you for bei...   \n",
       "16275       ham  or you could do this g on mon 1635465 sep 1635...   \n",
       "16276       ham  insta reels par 80 गंद bhara pada hai 👀 kuch b...   \n",
       "16277       ham  alex s paper comments 1 in the sentence betwee...   \n",
       "\n",
       "                                            preprocessed  \\\n",
       "0      [make, sure, alex, knows, birthday, fifteen, m...   \n",
       "1      [resume, john, lavorato, thanks, vince, get, m...   \n",
       "2      [plzz, visit, website, moviesgodml, get, movie...   \n",
       "3      [urgent, mobile, number, awarded, prize, guara...   \n",
       "4      [overview, hr, associates, analyst, project, p...   \n",
       "...                                                  ...   \n",
       "16273  [interested, binary, options, trading, may, co...   \n",
       "16274  [dirty, pictureblyk, aircel, thanks, valued, m...   \n",
       "16275  [could, g, mon, sep, david, rees, wrote, mon, ...   \n",
       "16276  [insta, reels, par, bhara, pada, hai, kuch, bh...   \n",
       "16277  [alex, paper, comments, sentence, eqn, eqn, th...   \n",
       "\n",
       "                                              lemmatized  \n",
       "0      [m, a, k, e, s, u, r, e, a, l, e, x, k, n, o, ...  \n",
       "1      [r, e, s, u, m, e, j, o, h, n, l, a, v, o, r, ...  \n",
       "2      [p, l, z, z, v, i, s, i, t, w, e, b, s, i, t, ...  \n",
       "3      [u, r, g, e, n, t, m, o, b, i, l, e, n, u, m, ...  \n",
       "4      [o, v, e, r, v, i, e, w, h, r, a, s, s, o, c, ...  \n",
       "...                                                  ...  \n",
       "16273  [i, n, t, e, r, e, s, t, e, d, b, i, n, a, r, ...  \n",
       "16274  [d, i, r, t, y, p, i, c, t, u, r, e, b, l, y, ...  \n",
       "16275  [c, o, u, l, d, g, m, o, n, s, e, p, d, a, v, ...  \n",
       "16276  [i, n, s, t, a, r, e, e, l, s, p, a, r, b, h, ...  \n",
       "16277  [a, l, e, x, p, a, p, e, r, c, o, m, m, e, n, ...  \n",
       "\n",
       "[16267 rows x 4 columns]"
      ]
     },
     "execution_count": 56,
     "metadata": {},
     "output_type": "execute_result"
    }
   ],
   "source": [
    "train"
   ]
  },
  {
   "cell_type": "code",
   "execution_count": 35,
   "id": "0957380c-f8da-40f9-b84d-09d0556821fb",
   "metadata": {},
   "outputs": [
    {
     "data": {
      "image/png": "[encoded data removed]",
      "text/plain": [
       "<Figure size 640x480 with 1 Axes>"
      ]
     },
     "metadata": {},
     "output_type": "display_data"
    },
    {
     "data": {
      "text/plain": [
       "<Axes: xlabel='Samples', ylabel='Counts'>"
      ]
     },
     "execution_count": 35,
     "metadata": {},
     "output_type": "execute_result"
    }
   ],
   "source": [
    "# Иллюстрируем частотность слов всего датасета\n",
    "\n",
    "tfa_train_merged = []\n",
    "for word_list in train['preprocessed']:\n",
    "    tfa_train_merged += word_list\n",
    "    \n",
    "fdist = FreqDist(tfa_train_merged)\n",
    "fdist.plot(30, cumulative=False, color='#2976E0')"
   ]
  },
  {
   "cell_type": "code",
   "execution_count": 40,
   "id": "c5bd538a-c6b5-4b45-b4fc-0914ad00b44b",
   "metadata": {},
   "outputs": [
    {
     "data": {
      "image/png": "[encoded data removed]",
      "text/plain": [
       "<Figure size 640x480 with 1 Axes>"
      ]
     },
     "metadata": {},
     "output_type": "display_data"
    },
    {
     "data": {
      "text/plain": [
       "<Axes: xlabel='Samples', ylabel='Counts'>"
      ]
     },
     "execution_count": 40,
     "metadata": {},
     "output_type": "execute_result"
    }
   ],
   "source": [
    "# 30 самых частых слов не-спама\n",
    "\n",
    "ham_merged = []\n",
    "for word_list in train['preprocessed'].loc[train['text_type']=='ham']:\n",
    "    ham_merged += word_list\n",
    "    \n",
    "fdist_ham = FreqDist(ham_merged)\n",
    "fdist_ham.plot(30, cumulative=False, color='#2976E0')"
   ]
  },
  {
   "cell_type": "code",
   "execution_count": 41,
   "id": "3c943101-5bec-4495-aafb-0ae079597c0b",
   "metadata": {},
   "outputs": [
    {
     "data": {
      "image/png": "[encoded data removed]",
      "text/plain": [
       "<Figure size 640x480 with 1 Axes>"
      ]
     },
     "metadata": {},
     "output_type": "display_data"
    },
    {
     "data": {
      "text/plain": [
       "<Axes: xlabel='Samples', ylabel='Counts'>"
      ]
     },
     "execution_count": 41,
     "metadata": {},
     "output_type": "execute_result"
    }
   ],
   "source": [
    "# 30 самых частых слов спама\n",
    "\n",
    "spam_merged = []\n",
    "for word_list in train['preprocessed'].loc[train['text_type']=='spam']:\n",
    "    spam_merged += word_list\n",
    "    \n",
    "fdist_spam = FreqDist(spam_merged)\n",
    "fdist_spam.plot(30, cumulative=False, color='#2976E0')"
   ]
  },
  {
   "cell_type": "markdown",
   "id": "51639586-b8d8-418a-8d4d-b67fe3a4fb9b",
   "metadata": {},
   "source": [
    "После анализа частотности предобработаем тестовый датасет и лемматизируем данные"
   ]
  },
  {
   "cell_type": "code",
   "execution_count": 57,
   "id": "9a30d86e-1d61-49a6-99a6-ff75cc18599d",
   "metadata": {},
   "outputs": [
    {
     "name": "stderr",
     "output_type": "stream",
     "text": [
      "[nltk_data] Downloading package wordnet to /Users/alina/nltk_data...\n",
      "[nltk_data]   Package wordnet is already up-to-date!\n"
     ]
    }
   ],
   "source": [
    "# Лемматизация\n",
    "\n",
    "train['preprocessed'] = train['preprocessed'].apply(lambda s: ' '.join(s))\n",
    "\n",
    "nltk.download('wordnet')\n",
    "from nltk.stem import WordNetLemmatizer\n",
    "\n",
    "lemmatizer = WordNetLemmatizer()\n",
    "\n",
    "def lemmatize_text(text):\n",
    "    return [lemmatizer.lemmatize(w) for w in nltk.word_tokenize(text)]\n"
   ]
  },
  {
   "cell_type": "code",
   "execution_count": 67,
   "id": "b3caf771-8a3c-4bbd-933b-eadb82a80f71",
   "metadata": {},
   "outputs": [],
   "source": [
    "\n",
    "train['lemmatized'] = train['preprocessed'].apply(lemmatize_text)\n",
    "train['lemmatized'] = train['lemmatized'].apply(lambda s: ' '.join(s))"
   ]
  },
  {
   "cell_type": "code",
   "execution_count": 68,
   "id": "f26528de-3e64-471f-8740-d8f413682fad",
   "metadata": {},
   "outputs": [
    {
     "data": {
      "text/plain": [
       "0        make sure alex know birthday fifteen minute fa...\n",
       "1        resume john lavorato thanks vince get moving r...\n",
       "2        plzz visit website moviesgodml get movie free ...\n",
       "3        urgent mobile number awarded prize guaranteed ...\n",
       "4        overview hr associate analyst project per davi...\n",
       "                               ...                        \n",
       "16273    interested binary option trading may continue ...\n",
       "16274    dirty pictureblyk aircel thanks valued member ...\n",
       "16275    could g mon sep david rees wrote mon sep rob w...\n",
       "16276    insta reel par bhara pada hai kuch bhi dalte c...\n",
       "16277    alex paper comment sentence eqn eqn think annu...\n",
       "Name: lemmatized, Length: 16267, dtype: object"
      ]
     },
     "execution_count": 68,
     "metadata": {},
     "output_type": "execute_result"
    }
   ],
   "source": [
    "train['lemmatized']"
   ]
  },
  {
   "cell_type": "code",
   "execution_count": 69,
   "id": "d8e5d25f-d293-4dc7-a2ce-455a8d887e95",
   "metadata": {},
   "outputs": [],
   "source": [
    "X_train, X_test, y_train, y_test = train_test_split(train['lemmatized'], train['text_type'], test_size=0.33, random_state=42)"
   ]
  },
  {
   "cell_type": "markdown",
   "id": "ad82ece6-1d2d-4c12-b1df-a6515fd03963",
   "metadata": {},
   "source": [
    "Протестируем 3 метода кодирования предложений - CountVectorizer, Tf-Idf, BERT Word Embeddings\n",
    "И 7 алгоритмов классического МЛ - Наивный Байес, Метод Опорных Векторов, К ближайших соседей, Решающие деревья, Случайный лес, Бустинг и Бэггинг (некоторые алгоритмы опустим при проверке BERT Word Embeddings из-за неподходящего инпута)\n",
    "Опираясь на ROC-AUC, указанную в задании, вычислим наилучший алгоритм\n"
   ]
  },
  {
   "cell_type": "code",
   "execution_count": 70,
   "id": "aafdef1f-b81d-4ea9-8539-eb7e411d4fea",
   "metadata": {},
   "outputs": [],
   "source": [
    "y_train.replace({'ham': 0, 'spam': 1}, inplace=True)\n",
    "y_test.replace({'ham': 0, 'spam': 1}, inplace=True)"
   ]
  },
  {
   "cell_type": "markdown",
   "id": "4d708207-06b3-4159-89d5-40e1fd06c561",
   "metadata": {},
   "source": [
    "Count Vectorizer: "
   ]
  },
  {
   "cell_type": "code",
   "execution_count": 71,
   "id": "2cf539d1-6821-474b-b0d7-fbc75a681d78",
   "metadata": {},
   "outputs": [],
   "source": [
    "cv = CountVectorizer(max_features = 1500)\n",
    "cv.fit(X_train)\n",
    "X_train_cv = cv.transform(X_train)\n",
    "X_test_cv = cv.transform(X_test)"
   ]
  },
  {
   "cell_type": "code",
   "execution_count": 72,
   "id": "3d75393d-ee3d-4eb4-9bfb-3c685e569ba8",
   "metadata": {},
   "outputs": [
    {
     "name": "stdout",
     "output_type": "stream",
     "text": [
      "Naive Bayes ROC-AUC:  0.8519702161307325\n"
     ]
    }
   ],
   "source": [
    "mnb1 = MultinomialNB(alpha = 0.5)\n",
    "mnb1.fit(X_train_cv, y_train)\n",
    "\n",
    "y_mnb1 = mnb1.predict(X_test_cv)\n",
    "print('Naive Bayes ROC-AUC: ', roc_auc_score(y_mnb1, y_test))"
   ]
  },
  {
   "cell_type": "code",
   "execution_count": 73,
   "id": "8d0feb4a-adc7-442d-8197-4981ec4c8c29",
   "metadata": {},
   "outputs": [
    {
     "name": "stdout",
     "output_type": "stream",
     "text": [
      "SVM ROC-AUC:  0.6885978280747895\n"
     ]
    }
   ],
   "source": [
    "svc1 = SVC(kernel='sigmoid', gamma=1.0)\n",
    "svc1.fit(X_train_cv,y_train)\n",
    "y_svc1 = svc1.predict(X_test_cv)\n",
    "print('SVM ROC-AUC: ', roc_auc_score(y_svc1, y_test))"
   ]
  },
  {
   "cell_type": "code",
   "execution_count": 75,
   "id": "37559cb1-c390-4794-a057-95bc2b173b32",
   "metadata": {},
   "outputs": [
    {
     "name": "stdout",
     "output_type": "stream",
     "text": [
      "KNeighbors ROC-AUC:  0.8296810610852356\n"
     ]
    }
   ],
   "source": [
    "knc1 = KNeighborsClassifier(n_neighbors=100)\n",
    "knc1.fit(X_train_cv,y_train)\n",
    "\n",
    "y_knc1 = knc1.predict(X_test_cv)\n",
    "print('KNeighbors ROC-AUC: ', roc_auc_score(y_knc1, y_test))"
   ]
  },
  {
   "cell_type": "code",
   "execution_count": 76,
   "id": "78648268-2bb1-4a89-a845-686a102b595f",
   "metadata": {},
   "outputs": [
    {
     "name": "stdout",
     "output_type": "stream",
     "text": [
      "Decision Tree ROC-AUC:  0.8724759022329092\n"
     ]
    }
   ],
   "source": [
    "dtc1 = DecisionTreeClassifier(min_samples_split=7)\n",
    "dtc1.fit(X_train_cv,y_train)\n",
    "y_dtc1 = dtc1.predict(X_test_cv)\n",
    "print('Decision Tree ROC-AUC: ', roc_auc_score(y_dtc1, y_test))"
   ]
  },
  {
   "cell_type": "code",
   "execution_count": 77,
   "id": "fa64c1aa-115f-4bd5-be49-eed017442cfb",
   "metadata": {},
   "outputs": [
    {
     "name": "stdout",
     "output_type": "stream",
     "text": [
      "Random Forest ROC-AUC:  0.920784876932418\n"
     ]
    }
   ],
   "source": [
    "rfc1 = RandomForestClassifier(n_estimators=75, random_state=252)\n",
    "rfc1.fit(X_train_cv,y_train)\n",
    "y_rfc1 = rfc1.predict(X_test_cv)\n",
    "print('Random Forest ROC-AUC: ', roc_auc_score(y_rfc1, y_test))"
   ]
  },
  {
   "cell_type": "code",
   "execution_count": 78,
   "id": "552c3b2b-612a-42d4-8a87-5aa673895d6b",
   "metadata": {},
   "outputs": [
    {
     "name": "stderr",
     "output_type": "stream",
     "text": [
      "/Users/alina/opt/anaconda3/lib/python3.9/site-packages/sklearn/ensemble/_weight_boosting.py:519: FutureWarning: The SAMME.R algorithm (the default) is deprecated and will be removed in 1.6. Use the SAMME algorithm to circumvent this warning.\n",
      "  warnings.warn(\n"
     ]
    },
    {
     "name": "stdout",
     "output_type": "stream",
     "text": [
      "Adaptable Boosting ROC-AUC:  0.854249758278946\n"
     ]
    }
   ],
   "source": [
    "abc1 = AdaBoostClassifier(n_estimators=37, random_state=252)\n",
    "abc1.fit(X_train_cv,y_train)\n",
    "y_abc1 = abc1.predict(X_test_cv)\n",
    "print('Adaptable Boosting ROC-AUC: ', roc_auc_score(y_abc1, y_test))"
   ]
  },
  {
   "cell_type": "code",
   "execution_count": 79,
   "id": "9b22b4ad-c25b-4fe8-8186-c7b9e24fc2ea",
   "metadata": {},
   "outputs": [
    {
     "name": "stdout",
     "output_type": "stream",
     "text": [
      "Bagging ROC-AUC:  0.8791002760670461\n"
     ]
    }
   ],
   "source": [
    "bc1 = BaggingClassifier(n_estimators=9, random_state=252)\n",
    "bc1.fit(X_train_cv,y_train)\n",
    "y_bc1 = bc1.predict(X_test_cv)\n",
    "print('Bagging ROC-AUC: ', roc_auc_score(y_bc1, y_test))"
   ]
  },
  {
   "cell_type": "code",
   "execution_count": 80,
   "id": "02d57283-320a-476c-9351-75460b7d5877",
   "metadata": {},
   "outputs": [],
   "source": [
    "from sklearn.feature_extraction.text import TfidfVectorizer\n",
    "tf_idf = TfidfVectorizer()\n",
    "tf_idf.fit(X_train)\n",
    "X_train_tfidf = tf_idf.transform(X_train)\n",
    "X_test_tfidf = tf_idf.transform(X_test)"
   ]
  },
  {
   "cell_type": "code",
   "execution_count": 81,
   "id": "a02a6b84-69e2-4fca-84d3-1d69c933c935",
   "metadata": {},
   "outputs": [
    {
     "name": "stdout",
     "output_type": "stream",
     "text": [
      "Naive Bayes ROC-AUC:  0.9031571581101804\n"
     ]
    }
   ],
   "source": [
    "mnb2 = MultinomialNB(alpha = 0.5)\n",
    "mnb2.fit(X_train_tfidf, y_train)\n",
    "\n",
    "y_mnb2 = mnb2.predict(X_test_tfidf)\n",
    "print('Naive Bayes ROC-AUC: ', roc_auc_score(y_mnb2, y_test))"
   ]
  },
  {
   "cell_type": "code",
   "execution_count": 82,
   "id": "86fb9f6f-0611-4596-bc94-4ff362b185ab",
   "metadata": {},
   "outputs": [
    {
     "name": "stdout",
     "output_type": "stream",
     "text": [
      "SVM ROC-AUC:  0.9271349510773474\n"
     ]
    }
   ],
   "source": [
    "svc2 = SVC(kernel='sigmoid', gamma=1.0)\n",
    "svc2.fit(X_train_tfidf, y_train)\n",
    "y_svc2 = svc2.predict(X_test_tfidf)\n",
    "print('SVM ROC-AUC: ', roc_auc_score(y_svc2, y_test))"
   ]
  },
  {
   "cell_type": "code",
   "execution_count": 83,
   "id": "17d510cb-ecd2-4e72-9acf-9867c0865ead",
   "metadata": {},
   "outputs": [
    {
     "name": "stdout",
     "output_type": "stream",
     "text": [
      "KNeighbors ROC-AUC:  0.8645762133335158\n"
     ]
    }
   ],
   "source": [
    "knc2 = KNeighborsClassifier(n_neighbors=100)\n",
    "knc2.fit(X_train_tfidf, y_train)\n",
    "\n",
    "y_knc2 = knc2.predict(X_test_tfidf)\n",
    "print('KNeighbors ROC-AUC: ', roc_auc_score(y_knc2, y_test))"
   ]
  },
  {
   "cell_type": "code",
   "execution_count": 84,
   "id": "1d90a9f6-14e3-4c09-a6c5-63b477291d61",
   "metadata": {},
   "outputs": [
    {
     "name": "stdout",
     "output_type": "stream",
     "text": [
      "Random Forest ROC-AUC:  0.9377406813893288\n"
     ]
    }
   ],
   "source": [
    "rfc2 = RandomForestClassifier(n_estimators=37, random_state=252)\n",
    "rfc2.fit(X_train_tfidf, y_train)\n",
    "y_rfc2 = rfc2.predict(X_test_tfidf)\n",
    "print('Random Forest ROC-AUC: ', roc_auc_score(y_rfc2, y_test))"
   ]
  },
  {
   "cell_type": "code",
   "execution_count": 85,
   "id": "e4d66b18-7f4b-4ef4-90cf-0e76e956a08a",
   "metadata": {},
   "outputs": [
    {
     "name": "stderr",
     "output_type": "stream",
     "text": [
      "/Users/alina/opt/anaconda3/lib/python3.9/site-packages/sklearn/ensemble/_weight_boosting.py:519: FutureWarning: The SAMME.R algorithm (the default) is deprecated and will be removed in 1.6. Use the SAMME algorithm to circumvent this warning.\n",
      "  warnings.warn(\n"
     ]
    },
    {
     "name": "stdout",
     "output_type": "stream",
     "text": [
      "Adaptable Boosting ROC-AUC:  0.8496534141445652\n"
     ]
    }
   ],
   "source": [
    "abc2 = AdaBoostClassifier(n_estimators=37, random_state=252)\n",
    "abc2.fit(X_train_tfidf, y_train)\n",
    "y_abc2 = abc2.predict(X_test_tfidf)\n",
    "print('Adaptable Boosting ROC-AUC: ', roc_auc_score(y_abc2, y_test))"
   ]
  },
  {
   "cell_type": "code",
   "execution_count": 89,
   "id": "ef6db801-2659-44e5-bb1e-3048e5e2aac2",
   "metadata": {},
   "outputs": [
    {
     "name": "stdout",
     "output_type": "stream",
     "text": [
      "Bagging ROC-AUC:  0.9046313547819255\n"
     ]
    }
   ],
   "source": [
    "bc2 = BaggingClassifier(n_estimators=9, random_state=252)\n",
    "bc2.fit(X_train_tfidf, y_train)\n",
    "y_bc2 = bc2.predict(X_test_tfidf)\n",
    "print('Bagging ROC-AUC: ', roc_auc_score(y_bc2, y_test))"
   ]
  },
  {
   "cell_type": "code",
   "execution_count": 87,
   "id": "289ee5ac-24ee-472b-b9c7-03b6610ce2b7",
   "metadata": {},
   "outputs": [
    {
     "name": "stderr",
     "output_type": "stream",
     "text": [
      "Fatal Python error: config_get_locale_encoding: failed to get the locale encoding: nl_langinfo(CODESET) failed\n",
      "Python runtime state: preinitialized\n",
      "\n"
     ]
    }
   ],
   "source": [
    "from sentence_transformers import SentenceTransformer\n",
    "bert = SentenceTransformer('bert-base-nli-mean-tokens')"
   ]
  },
  {
   "cell_type": "code",
   "execution_count": 90,
   "id": "5340ad07-76c1-449c-9e8c-7b2c1e58c738",
   "metadata": {},
   "outputs": [],
   "source": [
    "X_train_bert_matrix = X_train.apply(lambda string: bert.encode(string))\n",
    "X_test_bert_matrix = X_test.apply(lambda string: bert.encode(string))"
   ]
  },
  {
   "cell_type": "code",
   "execution_count": 92,
   "id": "14c56ed6-04e4-4a9c-8b13-4bb3c19c2719",
   "metadata": {},
   "outputs": [],
   "source": [
    "feature_train = [x for x in X_train_bert_matrix]\n",
    "X_train_bert = np.asarray(feature_train)\n",
    "\n",
    "feature_test = [x for x in X_test_bert_matrix]\n",
    "X_test_bert = np.asarray(feature_test)\n"
   ]
  },
  {
   "cell_type": "code",
   "execution_count": 94,
   "id": "bf1de9cc-b25c-4b12-868f-49e9912cc4b5",
   "metadata": {},
   "outputs": [
    {
     "name": "stdout",
     "output_type": "stream",
     "text": [
      "SVM ROC-AUC:  0.4779994931836214\n"
     ]
    }
   ],
   "source": [
    "svc3 = SVC(kernel='sigmoid', gamma=1.0)\n",
    "svc3.fit(X_train_bert, y_train)\n",
    "y_svc3 = svc3.predict(X_test_bert)\n",
    "print('SVM ROC-AUC: ', roc_auc_score(y_svc3, y_test))"
   ]
  },
  {
   "cell_type": "code",
   "execution_count": 96,
   "id": "9125e1e7-c6e7-4666-a571-b4efd4449b6f",
   "metadata": {},
   "outputs": [
    {
     "name": "stdout",
     "output_type": "stream",
     "text": [
      "Random Forest ROC-AUC:  0.8929919799115497\n"
     ]
    }
   ],
   "source": [
    "rfc3 = RandomForestClassifier(n_estimators=75, random_state=252)\n",
    "rfc3.fit(X_train_bert, y_train)\n",
    "y_rfc3 = rfc3.predict(X_test_bert)\n",
    "print('Random Forest ROC-AUC: ', roc_auc_score(y_rfc3, y_test))"
   ]
  },
  {
   "cell_type": "code",
   "execution_count": 98,
   "id": "f826060c-d0bd-42c8-a8fb-052fec1f15b1",
   "metadata": {},
   "outputs": [
    {
     "name": "stderr",
     "output_type": "stream",
     "text": [
      "/Users/alina/opt/anaconda3/lib/python3.9/site-packages/sklearn/ensemble/_weight_boosting.py:519: FutureWarning: The SAMME.R algorithm (the default) is deprecated and will be removed in 1.6. Use the SAMME algorithm to circumvent this warning.\n",
      "  warnings.warn(\n"
     ]
    },
    {
     "name": "stdout",
     "output_type": "stream",
     "text": [
      "Adaptable Boosting ROC-AUC:  0.8336311490445463\n"
     ]
    }
   ],
   "source": [
    "abc3 = AdaBoostClassifier(n_estimators=37, random_state=252)\n",
    "abc3.fit(X_train_bert, y_train)\n",
    "y_abc3 = abc3.predict(X_test_bert)\n",
    "print('Adaptable Boosting ROC-AUC: ', roc_auc_score(y_abc3, y_test))"
   ]
  },
  {
   "cell_type": "code",
   "execution_count": 99,
   "id": "3f2a231f-4b7b-4535-ad15-8a4e6c1f02ba",
   "metadata": {},
   "outputs": [
    {
     "name": "stdout",
     "output_type": "stream",
     "text": [
      "Bagging ROC-AUC:  0.8432026606950097\n"
     ]
    }
   ],
   "source": [
    "bc3 = BaggingClassifier(n_estimators=9, random_state=252)\n",
    "bc3.fit(X_train_bert, y_train)\n",
    "y_bc3 = bc3.predict(X_test_bert)\n",
    "print('Bagging ROC-AUC: ', roc_auc_score(y_bc3, y_test))"
   ]
  },
  {
   "cell_type": "markdown",
   "id": "d87194ab-1865-4d74-9f03-e60c330a0cf3",
   "metadata": {},
   "source": [
    "Обработка тестового датасета и скоринг:"
   ]
  },
  {
   "cell_type": "code",
   "execution_count": 102,
   "id": "bdd2d381-e888-49a7-8e40-4833917afd5f",
   "metadata": {},
   "outputs": [],
   "source": [
    "test = pd.read_csv(\"/Users/alina/Desktop/vk_internship/test_spam.csv\")"
   ]
  },
  {
   "cell_type": "code",
   "execution_count": 103,
   "id": "4e7290a8-572c-4b43-ac15-30690bdfb344",
   "metadata": {},
   "outputs": [],
   "source": [
    "\n",
    "test['preprocessed'] = test['text'].apply(lambda s: nltk.word_tokenize(s))\n",
    "test['preprocessed'] = test['preprocessed'] .apply(lambda str: [c.lower() for c in str if c.isalpha()])\n",
    "test['preprocessed'] = test['preprocessed'] .apply(lambda str: [w for w in str if w not in stopwords])\n",
    "test['preprocessed'] = test['preprocessed'].apply(lambda s: ' '.join(s))"
   ]
  },
  {
   "cell_type": "code",
   "execution_count": 104,
   "id": "8e113dd4-a7c7-43af-bd3f-91da900bd50b",
   "metadata": {},
   "outputs": [
    {
     "data": {
      "text/plain": [
       "0       j jim whitehead ejw cse ucsc edu writes j open...\n",
       "1       original message bitbitch magnesium net people...\n",
       "2       java managers vince durasoft taught java class...\n",
       "3                               youtuber name saiman says\n",
       "4       underpriced issue high return equity oil gas a...\n",
       "                              ...                        \n",
       "4065    husband wifetum meri zindagi hoorwifeor kyatel...\n",
       "4066    baylor enron case study cindy yes shall co aut...\n",
       "4067                                   boring compared tp\n",
       "4068    hellogorgeous hows u fone charge lst nitw wen ...\n",
       "4069    energy conference mark really swamped would li...\n",
       "Name: preprocessed, Length: 4070, dtype: object"
      ]
     },
     "execution_count": 104,
     "metadata": {},
     "output_type": "execute_result"
    }
   ],
   "source": [
    "test['preprocessed']"
   ]
  },
  {
   "cell_type": "code",
   "execution_count": 105,
   "id": "4ee68bef-ece4-4524-9c4a-67442b05ff86",
   "metadata": {},
   "outputs": [],
   "source": [
    "test['lemmatized'] = test['preprocessed'].apply(lemmatize_text)\n",
    "test['lemmatized'] = test['lemmatized'].apply(lambda s: ' '.join(s))"
   ]
  },
  {
   "cell_type": "code",
   "execution_count": 106,
   "id": "222840e3-0bdd-4dc2-84c8-94ba3ec20868",
   "metadata": {},
   "outputs": [
    {
     "data": {
      "text/plain": [
       "0       j jim whitehead ejw cse ucsc edu writes j open...\n",
       "1       original message bitbitch magnesium net people...\n",
       "2       java manager vince durasoft taught java class ...\n",
       "3                                youtuber name saiman say\n",
       "4       underpriced issue high return equity oil gas a...\n",
       "                              ...                        \n",
       "4065    husband wifetum meri zindagi hoorwifeor kyatel...\n",
       "4066    baylor enron case study cindy yes shall co aut...\n",
       "4067                                   boring compared tp\n",
       "4068    hellogorgeous hows u fone charge lst nitw wen ...\n",
       "4069    energy conference mark really swamped would li...\n",
       "Name: lemmatized, Length: 4070, dtype: object"
      ]
     },
     "execution_count": 106,
     "metadata": {},
     "output_type": "execute_result"
    }
   ],
   "source": [
    "test['lemmatized']"
   ]
  },
  {
   "cell_type": "code",
   "execution_count": 107,
   "id": "def98d30-dd94-4c50-8669-6b515e5c2303",
   "metadata": {},
   "outputs": [],
   "source": [
    "test_tfidf = tf_idf.transform(test['lemmatized'])"
   ]
  },
  {
   "cell_type": "code",
   "execution_count": 138,
   "id": "df205922-b092-4513-8b83-ab071d4db139",
   "metadata": {},
   "outputs": [],
   "source": [
    "result = rfc2.predict(test_tfidf)"
   ]
  },
  {
   "cell_type": "code",
   "execution_count": 139,
   "id": "aba0967e-2625-4a2c-937a-73a3278a0548",
   "metadata": {},
   "outputs": [],
   "source": [
    "result_list = result.tolist()"
   ]
  },
  {
   "cell_type": "code",
   "execution_count": 140,
   "id": "45a8727e-93b5-4260-a382-0abf2e5585d9",
   "metadata": {},
   "outputs": [],
   "source": [
    "for i in range(len(result_list)):\n",
    "    if result_list[i] == 0:\n",
    "        result_list[i] = 'ham'\n",
    "    else:\n",
    "        result_list[i] = 'spam'"
   ]
  },
  {
   "cell_type": "code",
   "execution_count": 148,
   "id": "b15534dd-077e-4314-b5ea-1dad0d618f19",
   "metadata": {},
   "outputs": [],
   "source": [
    "test['score'] = result_list"
   ]
  },
  {
   "cell_type": "code",
   "execution_count": 149,
   "id": "2bd25d3f-3ba9-4d0a-acc1-9808a66681db",
   "metadata": {},
   "outputs": [
    {
     "data": {
      "text/plain": [
       "0        ham\n",
       "1        ham\n",
       "2        ham\n",
       "3        ham\n",
       "4       spam\n",
       "        ... \n",
       "4065     ham\n",
       "4066     ham\n",
       "4067     ham\n",
       "4068     ham\n",
       "4069     ham\n",
       "Name: score, Length: 4070, dtype: object"
      ]
     },
     "execution_count": 149,
     "metadata": {},
     "output_type": "execute_result"
    }
   ],
   "source": [
    "test['score']"
   ]
  },
  {
   "cell_type": "code",
   "execution_count": 150,
   "id": "5133f0e7-6232-4b12-a1df-c25985ae7ad3",
   "metadata": {},
   "outputs": [
    {
     "ename": "KeyError",
     "evalue": "('lemmatized', 'score')",
     "output_type": "error",
     "traceback": [
      "\u001b[0;31m---------------------------------------------------------------------------\u001b[0m",
      "\u001b[0;31mKeyError\u001b[0m                                  Traceback (most recent call last)",
      "File \u001b[0;32m~/opt/anaconda3/lib/python3.9/site-packages/pandas/core/indexes/base.py:3791\u001b[0m, in \u001b[0;36mIndex.get_loc\u001b[0;34m(self, key)\u001b[0m\n\u001b[1;32m   3790\u001b[0m \u001b[38;5;28;01mtry\u001b[39;00m:\n\u001b[0;32m-> 3791\u001b[0m     \u001b[38;5;28;01mreturn\u001b[39;00m \u001b[38;5;28;43mself\u001b[39;49m\u001b[38;5;241;43m.\u001b[39;49m\u001b[43m_engine\u001b[49m\u001b[38;5;241;43m.\u001b[39;49m\u001b[43mget_loc\u001b[49m\u001b[43m(\u001b[49m\u001b[43mcasted_key\u001b[49m\u001b[43m)\u001b[49m\n\u001b[1;32m   3792\u001b[0m \u001b[38;5;28;01mexcept\u001b[39;00m \u001b[38;5;167;01mKeyError\u001b[39;00m \u001b[38;5;28;01mas\u001b[39;00m err:\n",
      "File \u001b[0;32mindex.pyx:152\u001b[0m, in \u001b[0;36mpandas._libs.index.IndexEngine.get_loc\u001b[0;34m()\u001b[0m\n",
      "File \u001b[0;32mindex.pyx:181\u001b[0m, in \u001b[0;36mpandas._libs.index.IndexEngine.get_loc\u001b[0;34m()\u001b[0m\n",
      "File \u001b[0;32mpandas/_libs/hashtable_class_helper.pxi:7080\u001b[0m, in \u001b[0;36mpandas._libs.hashtable.PyObjectHashTable.get_item\u001b[0;34m()\u001b[0m\n",
      "File \u001b[0;32mpandas/_libs/hashtable_class_helper.pxi:7088\u001b[0m, in \u001b[0;36mpandas._libs.hashtable.PyObjectHashTable.get_item\u001b[0;34m()\u001b[0m\n",
      "\u001b[0;31mKeyError\u001b[0m: ('lemmatized', 'score')",
      "\nThe above exception was the direct cause of the following exception:\n",
      "\u001b[0;31mKeyError\u001b[0m                                  Traceback (most recent call last)",
      "Cell \u001b[0;32mIn[150], line 1\u001b[0m\n\u001b[0;32m----> 1\u001b[0m result_df \u001b[38;5;241m=\u001b[39m pd\u001b[38;5;241m.\u001b[39mDataFrame(\u001b[43mtest\u001b[49m\u001b[43m[\u001b[49m\u001b[38;5;124;43m'\u001b[39;49m\u001b[38;5;124;43mlemmatized\u001b[39;49m\u001b[38;5;124;43m'\u001b[39;49m\u001b[43m,\u001b[49m\u001b[43m \u001b[49m\u001b[38;5;124;43m'\u001b[39;49m\u001b[38;5;124;43mscore\u001b[39;49m\u001b[38;5;124;43m'\u001b[39;49m\u001b[43m]\u001b[49m)\n",
      "File \u001b[0;32m~/opt/anaconda3/lib/python3.9/site-packages/pandas/core/frame.py:3893\u001b[0m, in \u001b[0;36mDataFrame.__getitem__\u001b[0;34m(self, key)\u001b[0m\n\u001b[1;32m   3891\u001b[0m \u001b[38;5;28;01mif\u001b[39;00m \u001b[38;5;28mself\u001b[39m\u001b[38;5;241m.\u001b[39mcolumns\u001b[38;5;241m.\u001b[39mnlevels \u001b[38;5;241m>\u001b[39m \u001b[38;5;241m1\u001b[39m:\n\u001b[1;32m   3892\u001b[0m     \u001b[38;5;28;01mreturn\u001b[39;00m \u001b[38;5;28mself\u001b[39m\u001b[38;5;241m.\u001b[39m_getitem_multilevel(key)\n\u001b[0;32m-> 3893\u001b[0m indexer \u001b[38;5;241m=\u001b[39m \u001b[38;5;28;43mself\u001b[39;49m\u001b[38;5;241;43m.\u001b[39;49m\u001b[43mcolumns\u001b[49m\u001b[38;5;241;43m.\u001b[39;49m\u001b[43mget_loc\u001b[49m\u001b[43m(\u001b[49m\u001b[43mkey\u001b[49m\u001b[43m)\u001b[49m\n\u001b[1;32m   3894\u001b[0m \u001b[38;5;28;01mif\u001b[39;00m is_integer(indexer):\n\u001b[1;32m   3895\u001b[0m     indexer \u001b[38;5;241m=\u001b[39m [indexer]\n",
      "File \u001b[0;32m~/opt/anaconda3/lib/python3.9/site-packages/pandas/core/indexes/base.py:3798\u001b[0m, in \u001b[0;36mIndex.get_loc\u001b[0;34m(self, key)\u001b[0m\n\u001b[1;32m   3793\u001b[0m     \u001b[38;5;28;01mif\u001b[39;00m \u001b[38;5;28misinstance\u001b[39m(casted_key, \u001b[38;5;28mslice\u001b[39m) \u001b[38;5;129;01mor\u001b[39;00m (\n\u001b[1;32m   3794\u001b[0m         \u001b[38;5;28misinstance\u001b[39m(casted_key, abc\u001b[38;5;241m.\u001b[39mIterable)\n\u001b[1;32m   3795\u001b[0m         \u001b[38;5;129;01mand\u001b[39;00m \u001b[38;5;28many\u001b[39m(\u001b[38;5;28misinstance\u001b[39m(x, \u001b[38;5;28mslice\u001b[39m) \u001b[38;5;28;01mfor\u001b[39;00m x \u001b[38;5;129;01min\u001b[39;00m casted_key)\n\u001b[1;32m   3796\u001b[0m     ):\n\u001b[1;32m   3797\u001b[0m         \u001b[38;5;28;01mraise\u001b[39;00m InvalidIndexError(key)\n\u001b[0;32m-> 3798\u001b[0m     \u001b[38;5;28;01mraise\u001b[39;00m \u001b[38;5;167;01mKeyError\u001b[39;00m(key) \u001b[38;5;28;01mfrom\u001b[39;00m \u001b[38;5;21;01merr\u001b[39;00m\n\u001b[1;32m   3799\u001b[0m \u001b[38;5;28;01mexcept\u001b[39;00m \u001b[38;5;167;01mTypeError\u001b[39;00m:\n\u001b[1;32m   3800\u001b[0m     \u001b[38;5;66;03m# If we have a listlike key, _check_indexing_error will raise\u001b[39;00m\n\u001b[1;32m   3801\u001b[0m     \u001b[38;5;66;03m#  InvalidIndexError. Otherwise we fall through and re-raise\u001b[39;00m\n\u001b[1;32m   3802\u001b[0m     \u001b[38;5;66;03m#  the TypeError.\u001b[39;00m\n\u001b[1;32m   3803\u001b[0m     \u001b[38;5;28mself\u001b[39m\u001b[38;5;241m.\u001b[39m_check_indexing_error(key)\n",
      "\u001b[0;31mKeyError\u001b[0m: ('lemmatized', 'score')"
     ]
    }
   ],
   "source": [
    "result_df = pd.DataFrame(test['lemmatized', 'score'])"
   ]
  },
  {
   "cell_type": "code",
   "execution_count": 147,
   "id": "aa0bd419-80a5-42de-9638-834c091f02bc",
   "metadata": {},
   "outputs": [
    {
     "data": {
      "text/html": [
       "<div>\n",
       "<style scoped>\n",
       "    .dataframe tbody tr th:only-of-type {\n",
       "        vertical-align: middle;\n",
       "    }\n",
       "\n",
       "    .dataframe tbody tr th {\n",
       "        vertical-align: top;\n",
       "    }\n",
       "\n",
       "    .dataframe thead th {\n",
       "        text-align: right;\n",
       "    }\n",
       "</style>\n",
       "<table border=\"1\" class=\"dataframe\">\n",
       "  <thead>\n",
       "    <tr style=\"text-align: right;\">\n",
       "      <th></th>\n",
       "      <th>0</th>\n",
       "    </tr>\n",
       "    <tr>\n",
       "      <th>lemmatized</th>\n",
       "      <th></th>\n",
       "    </tr>\n",
       "  </thead>\n",
       "  <tbody>\n",
       "    <tr>\n",
       "      <th>j jim whitehead ejw cse ucsc edu writes j open sourced new component developed j project next person come along j reimplement right need component already exist either java class library various java jar collection class used came jakarta project apachexml consolation threading together newswire server gpl available sourceforge gary lawrence murphy garym teledyn com teledynamics communication inc business advantage community software url computer useless give answer pablo picasso</th>\n",
       "      <td>ham</td>\n",
       "    </tr>\n",
       "    <tr>\n",
       "      <th>original message bitbitch magnesium net people screaming shouting political figure heard way illiterate mute problem somebody stop posting web page printing newsletter talking phone organizing conference would wrong think free speech license speak directly physical presence particular individual choosing especially individual busy something else interested</th>\n",
       "      <td>ham</td>\n",
       "    </tr>\n",
       "    <tr>\n",
       "      <th>java manager vince durasoft taught java class group offer day short course java manager detail interested stinsonforwarded stinson gibner hou ect pm siva thiagarajan please respond siva thiagarajan cc subject java manager hi stinson thanks meeting u thursday enjoyed talking per discussion attached course outline java manager along email conversation think course may little bit heavy group definetly take concept level make appropria</th>\n",
       "      <td>ham</td>\n",
       "    </tr>\n",
       "    <tr>\n",
       "      <th>youtuber name saiman say</th>\n",
       "      <td>ham</td>\n",
       "    </tr>\n",
       "    <tr>\n",
       "      <th>underpriced issue high return equity oil gas advisory oil gas entered long term bul market speciaity pinpointing hottest company remaining undervaiued energy play produced soaring return emerson oi gas eogi energy developer u oil belt canada highiy coveted reservoir generating potentia million per week breaking news emerson oil gas inc eogi pleased announce aiberta energy utiiity board issued license company acadia project acadia project consists section aiberta area produce natura gas viking formation oi potentia bakken zone g</th>\n",
       "      <td>spam</td>\n",
       "    </tr>\n",
       "    <tr>\n",
       "      <th>...</th>\n",
       "      <td>...</td>\n",
       "    </tr>\n",
       "    <tr>\n",
       "      <th>husband wifetum meri zindagi hoorwifeor kyatell kyawife shoutedtell kya husbandaur laanat hai aisi zindagi pe</th>\n",
       "      <td>ham</td>\n",
       "    </tr>\n",
       "    <tr>\n",
       "      <th>baylor enron case study cindy yes shall co author paper planted idea john martin head vince cindy derecskey enron vince j kaminski hou ect ect cc subject baylor enron case study vince forgot inquire whether would also like present interview process john martin ken jeff andy let know thanks cindy</th>\n",
       "      <td>ham</td>\n",
       "    </tr>\n",
       "    <tr>\n",
       "      <th>boring compared tp</th>\n",
       "      <td>ham</td>\n",
       "    </tr>\n",
       "    <tr>\n",
       "      <th>hellogorgeous hows u fone charge lst nitw wen u texd hopeu ad nice wkend im sure u lookin cin u luv jaz</th>\n",
       "      <td>ham</td>\n",
       "    </tr>\n",
       "    <tr>\n",
       "      <th>energy conference mark really swamped would like keep involvement conference reasonable minimum promise shall help future conference happens houston vince mark thabet pm vince j kaminski hou ect ect cc subject energy conference vince sorry hear scheduling conflict expertise would great value conference anyone else company could recommend speaker thanks time mark thabet vp energy shirley crenshaw subject energy conference mark sorry inform due scheduling conflict speak conference want thank considering spea</th>\n",
       "      <td>ham</td>\n",
       "    </tr>\n",
       "  </tbody>\n",
       "</table>\n",
       "<p>4070 rows × 1 columns</p>\n",
       "</div>"
      ],
      "text/plain": [
       "                                                       0\n",
       "lemmatized                                              \n",
       "j jim whitehead ejw cse ucsc edu writes j open ...   ham\n",
       "original message bitbitch magnesium net people ...   ham\n",
       "java manager vince durasoft taught java class g...   ham\n",
       "youtuber name saiman say                             ham\n",
       "underpriced issue high return equity oil gas ad...  spam\n",
       "...                                                  ...\n",
       "husband wifetum meri zindagi hoorwifeor kyatell...   ham\n",
       "baylor enron case study cindy yes shall co auth...   ham\n",
       "boring compared tp                                   ham\n",
       "hellogorgeous hows u fone charge lst nitw wen u...   ham\n",
       "energy conference mark really swamped would lik...   ham\n",
       "\n",
       "[4070 rows x 1 columns]"
      ]
     },
     "execution_count": 147,
     "metadata": {},
     "output_type": "execute_result"
    }
   ],
   "source": [
    "result_df"
   ]
  },
  {
   "cell_type": "code",
   "execution_count": 144,
   "id": "35a2ef5e-9312-4710-b55f-e7c9ef36aa3f",
   "metadata": {},
   "outputs": [],
   "source": [
    "result_df.to_csv(\"/Users/alina/Desktop/vk_internship/result.csv\")"
   ]
  }
 ],
 "metadata": {
  "kernelspec": {
   "display_name": "Python 3 (ipykernel)",
   "language": "python",
   "name": "python3"
  },
  "language_info": {
   "codemirror_mode": {
    "name": "ipython",
    "version": 3
   },
   "file_extension": ".py",
   "mimetype": "text/x-python",
   "name": "python",
   "nbconvert_exporter": "python",
   "pygments_lexer": "ipython3",
   "version": "3.9.7"
  }
 },
 "nbformat": 4,
 "nbformat_minor": 5
}
